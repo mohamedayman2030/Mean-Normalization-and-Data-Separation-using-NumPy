{
 "cells": [
  {
   "cell_type": "markdown",
   "metadata": {},
   "source": [
    "# Mean Normalization\n",
    "\n",
    "In machine learning we use large amounts of data to train our models. Some machine learning algorithms may require that the data is *normalized* in order to work correctly. The idea of normalization, also known as *feature scaling*, is to ensure that all the data is on a similar scale, *i.e.* that all the data takes on a similar range of values. For example, we might have a dataset that has values between 0 and 5,000. By normalizing the data we can make the range of values be between 0 and 1.\n",
    "\n",
    "In this lab, you will be performing a different kind of feature scaling known as *mean normalization*. Mean normalization will scale the data, but instead of making the values be between 0 and 1, it will distribute the values evenly in some small interval around zero. For example, if we have a dataset that has values between 0 and 5,000, after mean normalization the range of values will be distributed in some small range around 0, for example between -3 to 3. Because the range of values are distributed evenly around zero, this guarantees that the average (mean) of all elements will be zero. Therefore, when you perform *mean normalization* your data will not only be scaled but it will also have an average of zero. \n",
    "\n",
    "# To Do:\n",
    "\n",
    "You will start by importing NumPy and creating a rank 2 ndarray of random integers between 0 and 5,000 (inclusive) with 1000 rows and 20 columns. This array will simulate a dataset with a wide range of values. Fill in the code below"
   ]
  },
  {
   "cell_type": "code",
   "execution_count": 4,
   "metadata": {},
   "outputs": [
    {
     "name": "stdout",
     "output_type": "stream",
     "text": [
      "[[2027 4829 2919 ..., 3493 2424 3559]\n",
      " [3122 3447 3645 ..., 3652  621 2143]\n",
      " [2515  159  589 ..., 3026 3721 4686]\n",
      " ..., \n",
      " [1569 4179 4877 ...,  995 3995 3278]\n",
      " [ 480 1146 1759 ..., 2863  588 1834]\n",
      " [1993 1094 2047 ..., 4662  690 2233]]\n"
     ]
    }
   ],
   "source": [
    "# import NumPy into Python\n",
    "import numpy as np\n",
    "\n",
    "# Create a 1000 x 20 ndarray with random integers in the half-open interval [0, 5001).\n",
    "X = np.random.randint(0,5001,(1000,20))\n",
    "\n",
    "# print the shape of X\n",
    "print(X)"
   ]
  },
  {
   "cell_type": "markdown",
   "metadata": {},
   "source": [
    "Now that you created the array we will mean normalize it. We will perform mean normalization using the following equation:\n",
    "\n",
    "$\\mbox{Norm_Col}_i = \\frac{\\mbox{Col}_i - \\mu_i}{\\sigma_i}$\n",
    "\n",
    "where $\\mbox{Col}_i$ is the $i$th column of $X$, $\\mu_i$ is average of the values in the $i$th column of $X$, and $\\sigma_i$ is the standard deviation of the values in the $i$th column of $X$. In other words, mean normalization is performed by subtracting from each column of $X$ the average of its values, and then by dividing by the standard deviation of its values. In the space below, you will first calculate the average and standard deviation of each column of $X$. "
   ]
  },
  {
   "cell_type": "code",
   "execution_count": 5,
   "metadata": {},
   "outputs": [],
   "source": [
    "# Average of the values in each column of X\n",
    "ave_cols = X.mean(axis=0)\n",
    "\n",
    "# Standard Deviation of the values in each column of X\n",
    "std_cols =X.std(axis=0)"
   ]
  },
  {
   "cell_type": "markdown",
   "metadata": {},
   "source": [
    "If you have done the above calculations correctly, then `ave_cols` and `std_cols`, should both be vectors with shape `(20,)` since $X$ has 20 columns. You can verify this by filling the code below:"
   ]
  },
  {
   "cell_type": "code",
   "execution_count": 6,
   "metadata": {},
   "outputs": [
    {
     "name": "stdout",
     "output_type": "stream",
     "text": [
      "(20,)\n",
      "(20,)\n"
     ]
    }
   ],
   "source": [
    "# Print the shape of ave_cols\n",
    "print(ave_cols.shape)\n",
    "\n",
    "# Print the shape of std_cols\n",
    "print(std_cols.shape)"
   ]
  },
  {
   "cell_type": "markdown",
   "metadata": {},
   "source": [
    "You can now take advantage of Broadcasting to calculate the mean normalized version of $X$ in just one line of code using the equation above. Fill in the code below"
   ]
  },
  {
   "cell_type": "code",
   "execution_count": 7,
   "metadata": {},
   "outputs": [],
   "source": [
    "# Mean normalize X\n",
    "X_norm =(X-ave_cols)/std_cols"
   ]
  },
  {
   "cell_type": "markdown",
   "metadata": {},
   "source": [
    "If you have performed the mean normalization correctly, then the average of all the elements in $X_{\\tiny{\\mbox{norm}}}$ should be close to zero, and they should be evenly distributed in some small interval around zero. You can verify this by filing the code below:"
   ]
  },
  {
   "cell_type": "code",
   "execution_count": 15,
   "metadata": {},
   "outputs": [
    {
     "name": "stdout",
     "output_type": "stream",
     "text": [
      "[[-0.30884967  1.61324907  0.36277164 ...,  0.66891876 -0.04341362\n",
      "   0.76454002]\n",
      " [ 0.45591149  0.64422416  0.86924496 ...,  0.78131654 -1.27324004\n",
      "  -0.22026625]\n",
      " [ 0.0319754  -1.66124175 -1.26268684 ...,  0.33879447  0.84127016\n",
      "   1.54835122]\n",
      " ..., \n",
      " [-0.62872237  1.15748482  1.72871485 ..., -1.09692808  1.02816558\n",
      "   0.56910883]\n",
      " [-1.38929305 -0.96918127 -0.44646949 ...,  0.22356908 -1.29574934\n",
      "  -0.435171  ]\n",
      " [-0.33259567 -1.00564241 -0.24555445 ...,  1.49528984 -1.22617514\n",
      "  -0.15767263]]\n",
      "[-1.72383241 -1.76571693 -1.67288838 -1.75163254 -1.76076196 -1.6914714\n",
      " -1.65252967 -1.77322786 -1.78981293 -1.69137044 -1.73696432 -1.6853992\n",
      " -1.67743346 -1.74278862 -1.73018597 -1.68478541 -1.72082334 -1.7974702\n",
      " -1.69477788 -1.69399822]\n",
      "[ 1.76333878  1.71421838  1.80266275  1.75669505  1.7178881   1.68585829\n",
      "  1.82571839  1.70749587  1.68367854  1.74203289  1.74209692  1.75369189\n",
      "  1.68789167  1.67211729  1.77113822  1.77363456  1.75002828  1.72574063\n",
      "  1.71231194  1.76047404]\n"
     ]
    }
   ],
   "source": [
    "# Print the average of all the values of X_norm\n",
    "print(X_norm)\n",
    "\n",
    "# Print the average of the minimum value in each column of X_norm\n",
    "print(X_norm.min(axis=0))\n",
    "\n",
    "# Print the average of the maximum value in each column of X_norm\n",
    "print(X_norm.max(axis=0))\n"
   ]
  },
  {
   "cell_type": "markdown",
   "metadata": {},
   "source": [
    "You should note that since $X$ was created using random integers, the above values will vary. \n",
    "\n",
    "# Data Separation\n",
    "\n",
    "After the data has been mean normalized, it is customary in machine learnig to split our dataset into three sets:\n",
    "\n",
    "1. A Training Set\n",
    "2. A Cross Validation Set\n",
    "3. A Test Set\n",
    "\n",
    "The dataset is usually divided such that the Training Set contains 60% of the data, the Cross Validation Set contains 20% of the data, and the Test Set contains 20% of the data. \n",
    "\n",
    "In this part of the lab you will separate `X_norm` into a Training Set, Cross Validation Set, and a Test Set. Each data set will contain rows of `X_norm` chosen at random, making sure that we don't pick the same row twice. This will guarantee that all the rows of `X_norm` are chosen and randomly distributed among the three new sets.\n",
    "\n",
    "You will start by creating a rank 1 ndarray that contains a random permutation of the row indices of `X_norm`. You can do this by using the `np.random.permutation()` function. The `np.random.permutation(N)` function creates a random permutation of integers from 0 to `N - 1`. Let's see an example:"
   ]
  },
  {
   "cell_type": "code",
   "execution_count": null,
   "metadata": {},
   "outputs": [],
   "source": [
    "# We create a random permutation of integers 0 to 4\n",
    "np.random.permutation(5)"
   ]
  },
  {
   "cell_type": "markdown",
   "metadata": {},
   "source": [
    "# To Do\n",
    "\n",
    "In the space below create a rank 1 ndarray that contains a random permutation of the row indices of `X_norm`. You can do this in one line of code by extracting the number of rows of `X_norm` using the `shape` attribute and then passing it to the  `np.random.permutation()` function. Remember the `shape` attribute returns a tuple with two numbers in the form `(rows,columns)`."
   ]
  },
  {
   "cell_type": "code",
   "execution_count": 36,
   "metadata": {},
   "outputs": [
    {
     "name": "stdout",
     "output_type": "stream",
     "text": [
      "[953 281 592 232 404 809 144 463  70 425 775  13  37 558 929 539 607 723\n",
      " 996 629 484 896 706 642 735 713 956 497 613  11 715 282 533  73 637 436\n",
      " 146 168  71 574 356 449 209 866 626 854 139 527 515 984 254 531 859 464\n",
      " 160 315 946 524 448 660 553 419 948 919 983 891 969 849 344 682 793 903\n",
      " 976 591 819 832 992 641 932 200 753 831 907 302 521 754 288 856 469 800\n",
      " 399 529 178 528 740 364 565 205 507 818 662 226 710 617 813 140 578 201\n",
      " 943 790 316 886 570 778 954 537 514   3 562 664  39 499 406 768 491 217\n",
      " 865 672 482 600 925 194 883 968  92 797 588 688 580 321 413 522 900 904\n",
      " 767 927 299 633 505 157  41 708 295 417 296 535  79 598 155 960 199 357\n",
      " 869 957 822 171 106  18 233   9 388  81 696 532 970   6 108 944 340  91\n",
      " 806 599 950 102 590 622 191 234  90  28 158 639 776 686 452 985 652 644\n",
      " 345 975 403 585 371 410 134 794 820 786 343 998 118 552 489   5 991 804\n",
      " 702 901 739 525 579 367 513 844  21  36  40 431 593 444 411 988 573 614\n",
      " 746 989 747 319 834 477   8  96 137 791 549 147  24 530 327 337 759 336\n",
      " 543 305 704  93  35 301 858 135 928 837 807 105 734 181 742 656 394 843\n",
      "  49 663 504 127 202   1  80 921 498  84 429 816 669 310  67 252 801 982\n",
      " 926 701 398 963 941  14 442 569 643 376 839 724 850  54 377 810 207 876\n",
      " 359 159 335 964 875 496 389 372 120 995 802 974 107  94 313 719 623 709\n",
      " 309 773 658 937 350 889 418   7 769 564 612 618 228 812 841 131 317 675\n",
      " 192 939 868 582 123 931 297 993 184 488 262  69 572 670 852 111 848 101\n",
      " 286 424 744 486 961 126 439 654  66 649 828 264 274  85 223 619 782 526\n",
      " 260 231 465  29 163 636 890 783 437 627 246 143 325 634 241 423 978 915\n",
      " 322 523 971  26 459 899 884 334 508 150 940 407 117  64 366 898 752 542\n",
      " 445 990  27 545 787 811  47 451  50  95 330 611 680 188 817 220 421 474\n",
      " 999 378 628 668 942 536 687  12 958 358 198 718 458 251 187 347 239 845\n",
      " 756 699 461 657 833 661 870 169 587 370 994 584 887 476 635 426 621 596\n",
      " 470 214 881 949 502 103 259 606 755 164 114 368 814 369 571 266 511 450\n",
      " 236 914 677 721 766 785 116 278 166  25 665 175 267 170 935 480 758 348\n",
      " 440 862 495 863 703 229 320  15 761 222 206 185 918 153 689 141 462 638\n",
      " 104 247 853 221 764 892 951 218 938 258 256 544 934 307 631  46 244 360\n",
      " 586 729 838 271 210  22 698  68 697 466  78  98  42 240 908 519 110 945\n",
      " 435 269 142 673 555 788 387 412 510  33 909 479 331  83 566 554 873 795\n",
      " 717 977 872 216  62 959 283 973 332 561 434 238 981 568 784 601 180 681\n",
      "  56  34 148 692 204 230 381 879 877 667 683 420 277 408 548 243 936 725\n",
      " 311  31 880 556 557 846 115 751 263 917 400 473 825 616  45 354 361 972\n",
      " 625 830 674  97 780 363 374 276 826 174 211 414  77 501 154 763 540  89\n",
      " 132 716 512 864 823  43 145 292 774 610  52 255 559  72 684 728 727 341\n",
      " 538 855 235 541 966  99 861 608 517 151 457 980 666 349  30 577 808 298\n",
      " 177 172 312 443 109 840 468 375 395 962  63 212 190 379 650 632 779 275\n",
      " 492 428 427 471 329 384 732  17 534 860 777 894 714  48 546 355 447 911\n",
      " 165 393 396 128 624 189 339 289 494 176 691 676 293 738 149 757 659 750\n",
      "  16 965  51 441 895 397 291 615 630 520 878 835 737 736 113 485 285 253\n",
      " 745  32 352 284 152 250 195 924 500  20 842 472 503 731 125 798 647 803\n",
      " 224 547 487 576 947  87 430 743 595 685 156 799 272 952 467 280 455 390\n",
      "  86 648 453 506 133 771 287 213 789 122 129 760 422 483 645 563 338 460\n",
      " 161 294 516 227 138 318 136 748 245 304 326 433 857 100 392 605  61 328\n",
      " 885 249 824 270  23 711 821 362  44 303 888 910 987 333 405  59  82 913\n",
      "  57 402 196 604 679 609 922 602 186 829 897 741 173 836 693 720 261 380\n",
      " 805 923 796 197 324 225 416 581 583 902 409 509 551 671 300 893 603 290\n",
      "  75 781 851 694 438 182 589 314 770 386 705 792 308 930 722 342 695  88\n",
      " 567 119 391 518 646 640 353  55 273 162 730 905 867 124 749 268 121 475\n",
      " 575 594 765 916 707 265 933 346  53 620 183 920 700   2 550  65 193 986\n",
      " 712 997 690  74 365 219 847 130 383  38   0 912 179 815 597 874 401 415\n",
      "  58 323 882 481 456 432 653 351 306  10 762 733 979 373 237 651 112 772\n",
      " 242 382 490 446 906 248 726 655 493 215 827  60 257 678 279 560 871 967\n",
      "  76 167 208 203 454 955 478   4  19 385]\n"
     ]
    }
   ],
   "source": [
    "# Create a rank 1 ndarray that contains a random permutation of the row indices of `X_norm`\n",
    "row_indices =np.random.permutation(X_norm.shape[0])\n",
    "print(row_indices)"
   ]
  },
  {
   "cell_type": "markdown",
   "metadata": {},
   "source": [
    "Now you can create the three datasets using the `row_indices` ndarray to select the rows that will go into each dataset. Rememeber that the Training Set contains 60% of the data, the Cross Validation Set contains 20% of the data, and the Test Set contains 20% of the data. Each set requires just one line of code to create. Fill in the code below"
   ]
  },
  {
   "cell_type": "code",
   "execution_count": 37,
   "metadata": {},
   "outputs": [],
   "source": [
    "# Make any necessary calculations.\n",
    "# You can save your calculations into variables to use later.\n",
    "\n",
    "\n",
    "# Create a Training Set\n",
    "X_trainVal = X_norm[row_indices[0:600]]\n",
    "\n",
    "# Create a Cross Validation Set\n",
    "X_crossVal = X_norm[row_indices[600:800]]\n",
    "\n",
    "# Create a Test Set\n",
    "X_test = X_norm[row_indices[800:1000]]"
   ]
  },
  {
   "cell_type": "markdown",
   "metadata": {},
   "source": [
    "If you performed the above calculations correctly, then `X_tain` should have 600 rows and 20 columns, `X_crossVal` should have 200 rows and 20 columns, and `X_test` should have 200 rows and 20 columns. You can verify this by filling the code below:"
   ]
  },
  {
   "cell_type": "code",
   "execution_count": 38,
   "metadata": {},
   "outputs": [
    {
     "name": "stdout",
     "output_type": "stream",
     "text": [
      "(600, 20)\n",
      "(200, 20)\n",
      "(200, 20)\n"
     ]
    }
   ],
   "source": [
    "# Print the shape of X_train\n",
    "print(X_trainVal.shape)\n",
    "\n",
    "# Print the shape of X_crossVal\n",
    "print(X_crossVal.shape)\n",
    "\n",
    "\n",
    "# Print the shape of X_test\n",
    "print(X_test.shape)\n"
   ]
  },
  {
   "cell_type": "code",
   "execution_count": null,
   "metadata": {},
   "outputs": [],
   "source": []
  },
  {
   "cell_type": "code",
   "execution_count": null,
   "metadata": {},
   "outputs": [],
   "source": []
  }
 ],
 "metadata": {
  "kernelspec": {
   "display_name": "Python 3",
   "language": "python",
   "name": "python3"
  },
  "language_info": {
   "codemirror_mode": {
    "name": "ipython",
    "version": 3
   },
   "file_extension": ".py",
   "mimetype": "text/x-python",
   "name": "python",
   "nbconvert_exporter": "python",
   "pygments_lexer": "ipython3",
   "version": "3.6.3"
  }
 },
 "nbformat": 4,
 "nbformat_minor": 2
}
